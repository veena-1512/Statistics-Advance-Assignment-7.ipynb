{
 "cells": [
  {
   "cell_type": "markdown",
   "id": "0fe2f858-dbb7-40b9-badc-e1528b3a5b5a",
   "metadata": {},
   "source": [
    "Q1.Calculates the F-value for a variance ratio test. The function should return the F-value and the corresponding p-value for the test"
   ]
  },
  {
   "cell_type": "code",
   "execution_count": 2,
   "id": "bb59ebcb-b381-4c00-9230-13bc3607fa9d",
   "metadata": {},
   "outputs": [
    {
     "name": "stdout",
     "output_type": "stream",
     "text": [
      "F-value: 1.0613\n",
      "P-value: 0.9554\n"
     ]
    }
   ],
   "source": [
    "import numpy as np\n",
    "from scipy.stats import f\n",
    "\n",
    "def variance_ratio_test(data1, data2):\n",
    "    \n",
    "    \n",
    "    variance1 = np.var(data1, ddof=1) \n",
    "    variance2 = np.var(data2, ddof=1)\n",
    "    \n",
    "   \n",
    "    f_value = variance1 / variance2 if variance1 >= variance2 else variance2 / variance1\n",
    "    \n",
    "   \n",
    "    dof1 = len(data1) - 1\n",
    "    dof2 = len(data2) - 1\n",
    "    \n",
    "  \n",
    "    p_value = 2 * min(f.cdf(f_value, dof1, dof2), 1 - f.cdf(f_value, dof1, dof2))\n",
    "    \n",
    "    return f_value, p_value\n",
    "\n",
    "data1 = [12, 15, 18, 21, 24]\n",
    "data2 = [10, 14, 16, 19, 22]\n",
    "\n",
    "f_value, p_value = variance_ratio_test(data1, data2)\n",
    "\n",
    "print(f\"F-value: {f_value:.4f}\")\n",
    "print(f\"P-value: {p_value:.4f}\")\n"
   ]
  },
  {
   "cell_type": "markdown",
   "id": "746ebd78-d841-44cd-87f8-a64eacb5f175",
   "metadata": {},
   "source": [
    "Q2. Python function that calculates the critical F-value for a two-tailed test given the significance level and the degrees of freedom for the numerator and denominator of an F-distribution:"
   ]
  },
  {
   "cell_type": "code",
   "execution_count": 3,
   "id": "b6d2a892-6cee-4159-b9f3-3a6d65204c9d",
   "metadata": {},
   "outputs": [
    {
     "name": "stdout",
     "output_type": "stream",
     "text": [
      "Critical F-value: 3.8587\n"
     ]
    }
   ],
   "source": [
    "from scipy.stats import f\n",
    "\n",
    "def critical_f_value(significance_level, dof_num, dof_den):\n",
    "    \n",
    "    # Calculate the critical F-value for a two-tailed test\n",
    "    f_critical = f.ppf(1 - significance_level / 2, dof_num, dof_den)\n",
    "    \n",
    "    return f_critical\n",
    "\n",
    "# Given data\n",
    "significance_level = 0.05\n",
    "degrees_of_freedom_numerator = 3\n",
    "degrees_of_freedom_denominator = 20\n",
    "\n",
    "f_critical = critical_f_value(significance_level, degrees_of_freedom_numerator, degrees_of_freedom_denominator)\n",
    "\n",
    "print(f\"Critical F-value: {f_critical:.4f}\")"
   ]
  },
  {
   "cell_type": "markdown",
   "id": "23933b12-b3bc-4975-9326-c84982047369",
   "metadata": {},
   "source": [
    "Q3. Python program that generates random samples from two normal distributions with known variances and uses an F-test to determine if the variances are equal:"
   ]
  },
  {
   "cell_type": "code",
   "execution_count": 4,
   "id": "c37ba69b-6bac-42a6-bef5-05d546fdf55e",
   "metadata": {},
   "outputs": [
    {
     "name": "stdout",
     "output_type": "stream",
     "text": [
      "F-value: 1.0703\n",
      "Degrees of freedom: (29, 29)\n",
      "P-value: 0.8561\n",
      "Fail to reject the null hypothesis. Variances are equal.\n"
     ]
    }
   ],
   "source": [
    "import numpy as np\n",
    "from scipy.stats import f\n",
    "\n",
    "def f_test_equal_variances(sample1, sample2):\n",
    "    \n",
    "    # Calculate sample variances\n",
    "    variance1 = np.var(sample1, ddof=1)\n",
    "    variance2 = np.var(sample2, ddof=1)\n",
    "    \n",
    "    f_value = variance1 / variance2 if variance1 >= variance2 else variance2 / variance1\n",
    "    \n",
    "    dof1 = len(sample1) - 1\n",
    "    dof2 = len(sample2) - 1\n",
    "    \n",
    "    # Calculate p-value\n",
    "    p_value = 2 * min(f.cdf(f_value, dof1, dof2), 1 - f.cdf(f_value, dof1, dof2))\n",
    "    \n",
    "    return f_value, (dof1, dof2), p_value\n",
    "\n",
    "np.random.seed(42)\n",
    "\n",
    "sample_size = 30\n",
    "mean1 = 0\n",
    "variance1 = 4\n",
    "sample1 = np.random.normal(mean1, np.sqrt(variance1), sample_size)\n",
    "\n",
    "mean2 = 0\n",
    "variance2 = 4\n",
    "sample2 = np.random.normal(mean2, np.sqrt(variance2), sample_size)\n",
    "\n",
    "f_value, dof, p_value = f_test_equal_variances(sample1, sample2)\n",
    "\n",
    "print(f\"F-value: {f_value:.4f}\")\n",
    "print(f\"Degrees of freedom: {dof}\")\n",
    "print(f\"P-value: {p_value:.4f}\")\n",
    "\n",
    "# Determine if the results are statistically significant\n",
    "significance_level = 0.05\n",
    "if p_value < significance_level:\n",
    "    print(\"Reject the null hypothesis. Variances are not equal.\")\n",
    "else:\n",
    "    print(\"Fail to reject the null hypothesis. Variances are equal.\")"
   ]
  },
  {
   "cell_type": "code",
   "execution_count": null,
   "id": "f569fd62-42d7-4175-bf71-4ce363dab63e",
   "metadata": {},
   "outputs": [],
   "source": []
  },
  {
   "cell_type": "markdown",
   "id": "6301ec41-c560-4478-8c33-03e8b3b0a98c",
   "metadata": {},
   "source": [
    "Q4.The variances of two populations are known to be 10 and 15. A sample of 12 observations is taken from \n",
    "each population. Conduct an F-test at the 5% significance level to determine if the variances are \n",
    "significantly different"
   ]
  },
  {
   "cell_type": "code",
   "execution_count": 6,
   "id": "d0de6a4e-eab5-412a-a398-fbb3a5983fa3",
   "metadata": {},
   "outputs": [
    {
     "name": "stdout",
     "output_type": "stream",
     "text": [
      "F-value: 1.5000\n",
      "Degrees of freedom: (11, 11)\n",
      "P-value: 0.5124\n",
      "Fail to reject the null hypothesis. There is no significant evidence of different variances.\n"
     ]
    }
   ],
   "source": [
    "from scipy.stats import f\n",
    "\n",
    "# Given data\n",
    "variance1 = 10\n",
    "variance2 = 15\n",
    "sample_size = 12\n",
    "significance_level = 0.05\n",
    "\n",
    "f_value = variance1 / variance2 if variance1 >= variance2 else variance2 / variance1\n",
    "\n",
    "dof1 = sample_size - 1\n",
    "dof2 = sample_size - 1\n",
    "\n",
    "p_value = 2 * min(f.cdf(f_value, dof1, dof2), 1 - f.cdf(f_value, dof1, dof2))\n",
    "\n",
    "print(f\"F-value: {f_value:.4f}\")\n",
    "print(f\"Degrees of freedom: ({dof1}, {dof2})\")\n",
    "print(f\"P-value: {p_value:.4f}\")\n",
    "\n",
    "# Determine if the results are statistically significant\n",
    "if p_value < significance_level:\n",
    "    print(\"Reject the null hypothesis. Variances are significantly different.\")\n",
    "else:\n",
    "    print(\"Fail to reject the null hypothesis. There is no significant evidence of different variances.\")\n"
   ]
  },
  {
   "cell_type": "code",
   "execution_count": null,
   "id": "737fcf2a-adee-4967-989c-64641166f9bb",
   "metadata": {},
   "outputs": [],
   "source": []
  },
  {
   "cell_type": "markdown",
   "id": "844d710e-138a-4e4b-bb5f-ccdb1e0587e1",
   "metadata": {},
   "source": [
    "Q5.Conduct an F-test in Python to determine if the manufacturer's claim about the variance of the product's diameter is justified:"
   ]
  },
  {
   "cell_type": "code",
   "execution_count": 9,
   "id": "03fe288c-dfc9-402e-acfc-c14bc612b2ce",
   "metadata": {},
   "outputs": [
    {
     "name": "stdout",
     "output_type": "stream",
     "text": [
      "F-value: 1.2000\n",
      "Degrees of freedom: (24, 24)\n",
      "P-value: 0.6587\n",
      "Fail to reject the null hypothesis. The claim about the variance is justified.\n"
     ]
    }
   ],
   "source": [
    "from scipy.stats import f\n",
    "\n",
    "# Given data\n",
    "claim_variance = 0.005\n",
    "sample_variance = 0.006\n",
    "sample_size = 25\n",
    "significance_level = 0.01\n",
    "\n",
    "f_value = sample_variance / claim_variance if sample_variance >= claim_variance else claim_variance / sample_variance\n",
    "\n",
    "dof1 = sample_size - 1\n",
    "dof2 = sample_size - 1\n",
    "\n",
    "p_value = 2 * min(f.cdf(f_value, dof1, dof2), 1 - f.cdf(f_value, dof1, dof2))\n",
    "\n",
    "print(f\"F-value: {f_value:.4f}\")\n",
    "print(f\"Degrees of freedom: ({dof1}, {dof2})\")\n",
    "print(f\"P-value: {p_value:.4f}\")\n",
    "\n",
    "if p_value < significance_level:\n",
    "    print(\"Reject the null hypothesis. The claim about the variance is not justified.\")\n",
    "else:\n",
    "    print(\"Fail to reject the null hypothesis. The claim about the variance is justified.\")"
   ]
  },
  {
   "cell_type": "markdown",
   "id": "95d90c33-d7c6-4b25-b535-dad8630f4915",
   "metadata": {},
   "source": [
    "Q6.Python function that takes in the degrees of freedom for the numerator and denominator of an F-distribution and calculates the mean and variance of the distribution:\n"
   ]
  },
  {
   "cell_type": "code",
   "execution_count": 10,
   "id": "9534385b-b473-4b46-a34b-5768a77b8709",
   "metadata": {},
   "outputs": [
    {
     "name": "stdout",
     "output_type": "stream",
     "text": [
      "Mean of the F-distribution: 1.1111\n",
      "Variance of the F-distribution: 1.0802\n"
     ]
    }
   ],
   "source": [
    "def f_distribution_mean_variance(dof_num, dof_den):\n",
    "    if dof_num <= 0 or dof_den <= 0:\n",
    "        raise ValueError(\"Degrees of freedom must be positive.\")\n",
    "    \n",
    "    if dof_den <= 2:\n",
    "        raise ValueError(\"Degrees of freedom for the denominator must be greater than 2.\")\n",
    "    \n",
    "    mean = dof_den / (dof_den - 2)\n",
    "    variance = (2 * (dof_den ** 2) * (dof_num + dof_den - 2)) / (dof_num * (dof_den - 2) ** 2 * (dof_den - 4))\n",
    "    \n",
    "    return mean, variance\n",
    "\n",
    "# Example degrees of freedom\n",
    "dof_num = 3\n",
    "dof_den = 20\n",
    "\n",
    "# Calculate mean and variance of the F-distribution\n",
    "mean, variance = f_distribution_mean_variance(dof_num, dof_den)\n",
    "\n",
    "print(f\"Mean of the F-distribution: {mean:.4f}\")\n",
    "print(f\"Variance of the F-distribution: {variance:.4f}\")"
   ]
  },
  {
   "cell_type": "markdown",
   "id": "cdb36918-73e1-422d-ade2-4d0e57c0d32b",
   "metadata": {},
   "source": [
    "Q7. Conduct an F-test in Python to determine if the variances of two populations with unknown variances are significantly different:"
   ]
  },
  {
   "cell_type": "code",
   "execution_count": 12,
   "id": "26136fd4-23c8-450a-a80d-f0df57c02710",
   "metadata": {},
   "outputs": [
    {
     "name": "stdout",
     "output_type": "stream",
     "text": [
      "F-value: 1.2500\n",
      "Degrees of freedom: (9, 14)\n",
      "P-value: 0.6832\n",
      "Fail to reject the null hypothesis. There is no significant evidence of different variances.\n"
     ]
    }
   ],
   "source": [
    "from scipy.stats import f\n",
    "\n",
    "# Given data\n",
    "sample_variance1 = 25\n",
    "sample_size1 = 10\n",
    "sample_variance2 = 20\n",
    "sample_size2 = 15\n",
    "significance_level = 0.10\n",
    "\n",
    "f_value = sample_variance1 / sample_variance2 if sample_variance1 >= sample_variance2 else sample_variance2 / sample_variance1\n",
    "\n",
    "dof1 = sample_size1 - 1\n",
    "dof2 = sample_size2 - 1\n",
    "\n",
    "p_value = 2 * min(f.cdf(f_value, dof1, dof2), 1 - f.cdf(f_value, dof1, dof2))\n",
    "\n",
    "print(f\"F-value: {f_value:.4f}\")\n",
    "print(f\"Degrees of freedom: ({dof1}, {dof2})\")\n",
    "print(f\"P-value: {p_value:.4f}\")\n",
    "\n",
    "if p_value < significance_level:\n",
    "    print(\"Reject the null hypothesis. Variances are significantly different.\")\n",
    "else:\n",
    "    print(\"Fail to reject the null hypothesis. There is no significant evidence of different variances.\")\n"
   ]
  },
  {
   "cell_type": "markdown",
   "id": "b25d0732-ed1d-4cdd-ab2f-db11f834e64d",
   "metadata": {},
   "source": [
    "Q8. Conduct an F-test in Python to determine if the variances of waiting times at two different restaurants are significantly different:"
   ]
  },
  {
   "cell_type": "code",
   "execution_count": 13,
   "id": "551888c1-c8a9-4b97-972d-87db3ecc5d2c",
   "metadata": {},
   "outputs": [
    {
     "name": "stdout",
     "output_type": "stream",
     "text": [
      "F-value: 1.4552\n",
      "Degrees of freedom: (6, 5)\n",
      "P-value: 0.6975\n",
      "Fail to reject the null hypothesis. There is no significant evidence of different variances.\n"
     ]
    }
   ],
   "source": [
    "from scipy.stats import f\n",
    "\n",
    "# Given data\n",
    "waiting_times_a = [24, 25, 28, 23, 22, 20, 27]\n",
    "waiting_times_b = [31, 33, 35, 30, 32, 36]\n",
    "significance_level = 0.05\n",
    "\n",
    "# Calculate the sample variances\n",
    "sample_variance_a = sum((x - sum(waiting_times_a) / len(waiting_times_a)) ** 2 for x in waiting_times_a) / (len(waiting_times_a) - 1)\n",
    "sample_variance_b = sum((x - sum(waiting_times_b) / len(waiting_times_b)) ** 2 for x in waiting_times_b) / (len(waiting_times_b) - 1)\n",
    "\n",
    "# Calculate the F-value\n",
    "f_value = sample_variance_a / sample_variance_b if sample_variance_a >= sample_variance_b else sample_variance_b / sample_variance_a\n",
    "\n",
    "# Degrees of freedom for the two samples\n",
    "dof_a = len(waiting_times_a) - 1\n",
    "dof_b = len(waiting_times_b) - 1\n",
    "\n",
    "# Calculate the p-value\n",
    "p_value = 2 * min(f.cdf(f_value, dof_a, dof_b), 1 - f.cdf(f_value, dof_a, dof_b))\n",
    "\n",
    "print(f\"F-value: {f_value:.4f}\")\n",
    "print(f\"Degrees of freedom: ({dof_a}, {dof_b})\")\n",
    "print(f\"P-value: {p_value:.4f}\")\n",
    "\n",
    "# Determine if the results are statistically significant\n",
    "if p_value < significance_level:\n",
    "    print(\"Reject the null hypothesis. Variances are significantly different.\")\n",
    "else:\n",
    "    print(\"Fail to reject the null hypothesis. There is no significant evidence of different variances.\")\n"
   ]
  },
  {
   "cell_type": "code",
   "execution_count": null,
   "id": "e704b091-3a38-4e8d-b5e6-e8c477330bdf",
   "metadata": {},
   "outputs": [],
   "source": []
  },
  {
   "cell_type": "markdown",
   "id": "b4a485ba-ca97-4445-b510-73d426d0cac3",
   "metadata": {},
   "source": [
    "9.To conduct an F-test to determine if the variances of two groups are significantly different"
   ]
  },
  {
   "cell_type": "code",
   "execution_count": 3,
   "id": "5484b3c0-2fe5-4e3b-a3b5-e34037e7c5c8",
   "metadata": {},
   "outputs": [
    {
     "name": "stdout",
     "output_type": "stream",
     "text": [
      "F-statistic: 1.9442622950819677\n",
      "P-value: 0.2415521774535344\n",
      "Fail to reject null hypothesis: Variances are not significantly different\n"
     ]
    }
   ],
   "source": [
    "import numpy as np\n",
    "from scipy.stats import f\n",
    "\n",
    "group_a_scores = np.array([80, 85, 90, 92, 87, 83])\n",
    "group_b_scores = np.array([75, 78, 82, 79, 81, 84])\n",
    "\n",
    "variance_a = np.var(group_a_scores, ddof=1)  # Using ddof=1 for unbiased sample variance\n",
    "variance_b = np.var(group_b_scores, ddof=1)\n",
    "\n",
    "f_statistic = variance_a / variance_b\n",
    "\n",
    "df_a = len(group_a_scores) - 1\n",
    "df_b = len(group_b_scores) - 1\n",
    "\n",
    "f_statistic = variance_a / variance_b\n",
    "\n",
    "p_value = 1 - f.cdf(f_statistic, df_a, df_b)\n",
    "\n",
    "alpha = 0.01\n",
    "\n",
    "if p_value < alpha:\n",
    "    result = \"Reject null hypothesis: Variances are significantly different\"\n",
    "else:\n",
    "    result = \"Fail to reject null hypothesis: Variances are not significantly different\"\n",
    "\n",
    "print(\"F-statistic:\", f_statistic)\n",
    "print(\"P-value:\", p_value)\n",
    "print(result)"
   ]
  },
  {
   "cell_type": "code",
   "execution_count": null,
   "id": "0d37ff44-352d-4d37-a58a-bf824099dd74",
   "metadata": {},
   "outputs": [],
   "source": []
  }
 ],
 "metadata": {
  "kernelspec": {
   "display_name": "Python 3 (ipykernel)",
   "language": "python",
   "name": "python3"
  },
  "language_info": {
   "codemirror_mode": {
    "name": "ipython",
    "version": 3
   },
   "file_extension": ".py",
   "mimetype": "text/x-python",
   "name": "python",
   "nbconvert_exporter": "python",
   "pygments_lexer": "ipython3",
   "version": "3.10.8"
  }
 },
 "nbformat": 4,
 "nbformat_minor": 5
}
